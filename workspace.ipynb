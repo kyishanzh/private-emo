{
 "cells": [
  {
   "cell_type": "code",
   "execution_count": 1,
   "metadata": {},
   "outputs": [],
   "source": [
    "import numpy as np\n",
    "import cv2\n",
    "import os\n",
    "import random\n",
    "import matplotlib.pyplot as plt"
   ]
  },
  {
   "cell_type": "code",
   "execution_count": 2,
   "metadata": {},
   "outputs": [],
   "source": [
    "def find_Class(directory_path):\n",
    "    if not os.path.exists(directory_path):\n",
    "        raise ValueError(f\"The directory '{directory_path}' does not exist.\")\n",
    "    if not os.path.isdir(directory_path):\n",
    "        raise ValueError(f\"The path '{directory_path}' is not a directory.\")\n",
    "    \n",
    "    # Get a list of all entries in the directory\n",
    "    all_entries = os.listdir(directory_path)\n",
    "    \n",
    "    # Filter out only directories\n",
    "    folders = [entry for entry in all_entries if os.path.isdir(os.path.join(directory_path, entry))]\n",
    "    \n",
    "    return folders"
   ]
  },
  {
   "cell_type": "code",
   "execution_count": 3,
   "metadata": {},
   "outputs": [
    {
     "name": "stdout",
     "output_type": "stream",
     "text": [
      "Directories in 'data/real/train':\n"
     ]
    },
    {
     "data": {
      "text/plain": [
       "['7', '6', '1', '4', '3', '2', '5']"
      ]
     },
     "execution_count": 3,
     "metadata": {},
     "output_type": "execute_result"
    }
   ],
   "source": [
    "DIRECTORY= r\"data/real/train\"\n",
    "CATAGORIES= []\n",
    "try:\n",
    "    folders = find_Class(DIRECTORY)\n",
    "    print(f\"Directories in '{DIRECTORY}':\")\n",
    "    for folder in folders:\n",
    "        CATAGORIES.append(folder)\n",
    "except ValueError as e:\n",
    "    print(e)\n",
    "\n",
    "CATAGORIES\n",
    "# you can rename these class according to the emotion of the folder"
   ]
  },
  {
   "cell_type": "code",
   "execution_count": 4,
   "metadata": {},
   "outputs": [],
   "source": [
    "data=[]\n",
    "\n",
    "for categories in CATAGORIES:\n",
    "    folder=os.path.join(DIRECTORY,categories)\n",
    "    label=CATAGORIES.index(categories)\n",
    "    \n",
    "    for img in os.listdir(folder):\n",
    "        img=os.path.join(folder,img)\n",
    "        img_arr=cv2.imread(img)\n",
    "        if img_arr is not None:  # Check if the image is successfully loaded\n",
    "            img_arr = cv2.resize(img_arr, (100, 100))\n",
    "            data.append([img_arr, label])\n",
    "        else:\n",
    "            print(f\"Failed to load image {img}\")"
   ]
  },
  {
   "cell_type": "code",
   "execution_count": null,
   "metadata": {},
   "outputs": [],
   "source": []
  }
 ],
 "metadata": {
  "kernelspec": {
   "display_name": "base",
   "language": "python",
   "name": "python3"
  },
  "language_info": {
   "codemirror_mode": {
    "name": "ipython",
    "version": 3
   },
   "file_extension": ".py",
   "mimetype": "text/x-python",
   "name": "python",
   "nbconvert_exporter": "python",
   "pygments_lexer": "ipython3",
   "version": "3.12.2"
  }
 },
 "nbformat": 4,
 "nbformat_minor": 2
}
